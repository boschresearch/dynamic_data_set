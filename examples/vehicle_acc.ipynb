{
 "cells": [
  {
   "cell_type": "markdown",
   "metadata": {},
   "source": [
    "### Vibration measurement of the unsprung mass\n",
    "Data set contains a acceleration measurement of a car. Sensors are placed on the unsprung mass. The dictionary contains data frames with the \n",
    "\n",
    "- Acceleration signals ($f_s=4096$ Hz) in x,y,z direction\n",
    "- Velocity of the car\n",
    "- gps data \n",
    "- street information\n",
    "\n",
    "[![track](../pics/track.png)]"
   ]
  },
  {
   "cell_type": "code",
   "execution_count": null,
   "metadata": {},
   "outputs": [],
   "source": [
    "import pandas as pd\n",
    "import numpy as np\n",
    "from sklearn.manifold import TSNE\n",
    "import pickle\n",
    "import plotly.express as px"
   ]
  },
  {
   "cell_type": "code",
   "execution_count": null,
   "metadata": {},
   "outputs": [],
   "source": [
    "data_dic = pickle.load(open('../data/car_unsprung_mass_acc.pkl', 'rb'))\n",
    "data_dic.keys()"
   ]
  },
  {
   "cell_type": "code",
   "execution_count": null,
   "metadata": {},
   "outputs": [],
   "source": [
    "data_dic[\"speed\"].plot()"
   ]
  },
  {
   "cell_type": "markdown",
   "metadata": {},
   "source": [
    "### You can try to evaluate the influence of the car velocity"
   ]
  },
  {
   "cell_type": "code",
   "execution_count": null,
   "metadata": {},
   "outputs": [],
   "source": [
    "sensor = \"sensor_1_z\"\n",
    "method = np.std\n",
    "acc_df = pd.DataFrame(data_dic['acc'])\n",
    "acc_df_method = acc_df.resample('1s').apply(method)\n",
    "fig = px.scatter(pd.concat([acc_df_method[sensor], data_dic[\"speed\"]], axis=1), x=\"speed\", y=sensor, title=str(method))\n",
    "fig.show()"
   ]
  },
  {
   "cell_type": "markdown",
   "metadata": {},
   "source": [
    "but we have some more features"
   ]
  },
  {
   "cell_type": "code",
   "execution_count": null,
   "metadata": {},
   "outputs": [],
   "source": [
    "tsne = TSNE(n_components=2, random_state=0)\n",
    "features = pd.concat([data_dic[\"street_information\"], data_dic[\"speed\"]], axis=1)\n",
    "features"
   ]
  },
  {
   "cell_type": "code",
   "execution_count": null,
   "metadata": {},
   "outputs": [],
   "source": [
    "components = tsne.fit_transform(features)\n",
    "\n",
    "comp_df = pd.DataFrame(data=components, columns=['Component 1', 'Component 2'], index=features.index)\n",
    "comp_df[\"method\"] = acc_df_method[sensor]\n",
    "fig = px.scatter(comp_df.dropna(), x='Component 1', y='Component 2', color=\"method\", title=\"t-SNE\")\n",
    "fig.show()"
   ]
  },
  {
   "cell_type": "markdown",
   "metadata": {},
   "source": [
    "PCA, ...."
   ]
  },
  {
   "cell_type": "markdown",
   "metadata": {},
   "source": [
    "-------------------------------------------\n",
    "### Vibration measurement of two different cars"
   ]
  },
  {
   "cell_type": "code",
   "execution_count": null,
   "metadata": {},
   "outputs": [],
   "source": [
    "data = pd.read_hdf(\"../data/car_loads.h5\")\n",
    "data"
   ]
  },
  {
   "cell_type": "code",
   "execution_count": null,
   "metadata": {},
   "outputs": [],
   "source": [
    "from sklearn.preprocessing import LabelEncoder\n",
    "le = LabelEncoder()\n",
    "data['car'] = le.fit_transform(data['car'])"
   ]
  },
  {
   "cell_type": "code",
   "execution_count": null,
   "metadata": {},
   "outputs": [],
   "source": [
    "components = tsne.fit_transform(data.iloc[: , 5 : -1])"
   ]
  },
  {
   "cell_type": "code",
   "execution_count": null,
   "metadata": {},
   "outputs": [],
   "source": [
    "plot_df = pd.concat(\n",
    "    [\n",
    "        data,\n",
    "        pd.DataFrame(\n",
    "            data=components, columns=[\"Component 1\", \"Component 2\"], index=data.index\n",
    "        ),\n",
    "    ],\n",
    "    axis=1,\n",
    ")\n",
    "fig = px.scatter(\n",
    "    plot_df.dropna(), x=\"Component 1\", y=\"Component 2\", color=\"car\", title=\"t-SNE\"\n",
    ")\n",
    "fig.show()"
   ]
  },
  {
   "cell_type": "code",
   "execution_count": null,
   "metadata": {},
   "outputs": [],
   "source": [
    "# https://github.com/Renumics/spotlight\n"
   ]
  },
  {
   "cell_type": "code",
   "execution_count": null,
   "metadata": {},
   "outputs": [],
   "source": []
  }
 ],
 "metadata": {
  "kernelspec": {
   "display_name": "Python 3",
   "language": "python",
   "name": "python3"
  },
  "language_info": {
   "codemirror_mode": {
    "name": "ipython",
    "version": 3
   },
   "file_extension": ".py",
   "mimetype": "text/x-python",
   "name": "python",
   "nbconvert_exporter": "python",
   "pygments_lexer": "ipython3",
   "version": "3.11.8"
  }
 },
 "nbformat": 4,
 "nbformat_minor": 2
}
